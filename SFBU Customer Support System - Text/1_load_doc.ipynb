{
 "cells": [
  {
   "cell_type": "code",
   "execution_count": 3,
   "id": "56b15095-f300-4cf0-8a64-48e3975e856e",
   "metadata": {},
   "outputs": [],
   "source": [
    "import os\n",
    "import openai\n",
    "import sys\n",
    "sys.path.append('../..')\n",
    "\n",
    "from dotenv import load_dotenv, find_dotenv\n",
    "_ = load_dotenv(find_dotenv()) # read local .env file\n",
    "\n",
    "openai.api_key  = os.environ['OPENAI_API_KEY']"
   ]
  },
  {
   "cell_type": "code",
   "execution_count": 4,
   "id": "23bc4d09-5082-4d76-9a92-6895973d4063",
   "metadata": {},
   "outputs": [],
   "source": [
    "# Load PDF"
   ]
  },
  {
   "cell_type": "code",
   "execution_count": 2,
   "id": "1d3ffd84-f6a1-4fa6-8a29-40776c2cdac8",
   "metadata": {},
   "outputs": [],
   "source": [
    "# !pip install langchain_community pypdf"
   ]
  },
  {
   "cell_type": "code",
   "execution_count": 5,
   "id": "c6b3eae0-e35e-4111-a690-020afddf75d9",
   "metadata": {},
   "outputs": [],
   "source": [
    "from langchain_community.document_loaders import PyPDFLoader\n",
    "loader = PyPDFLoader(\n",
    "     \"docs/sfbu-2024-2025-university-catalog-8-20-2024.pdf\")\n",
    "pages = loader.load_and_split()"
   ]
  },
  {
   "cell_type": "code",
   "execution_count": 6,
   "id": "cdf48a99-0b1b-4b6a-832d-772cc43383f7",
   "metadata": {},
   "outputs": [
    {
     "data": {
      "text/plain": [
       "190"
      ]
     },
     "execution_count": 6,
     "metadata": {},
     "output_type": "execute_result"
    }
   ],
   "source": [
    "len(pages)"
   ]
  },
  {
   "cell_type": "code",
   "execution_count": 7,
   "id": "ba3adaaa-5ffa-47a7-bbae-391e16f18e96",
   "metadata": {},
   "outputs": [],
   "source": [
    "page = pages[0]"
   ]
  },
  {
   "cell_type": "code",
   "execution_count": 8,
   "id": "7ad1f91a-2fa9-40bb-9a8e-55eec7b135da",
   "metadata": {},
   "outputs": [
    {
     "name": "stdout",
     "output_type": "stream",
     "text": [
      "2024 – 2025 University Catalog  1 \n",
      "San Francisco Bay University \n",
      "2024-2025 University Catalog \n",
      "      Effective Fall Semester 2024 \n",
      " \n",
      " \n",
      "The 2024-2025 University Catalog is published annually and designed to provide an overview of \n",
      "general information about San Francisco Bay University and a detailed explanation of the \n",
      "University’s degree programs, curricular requirements, and Academic Affairs rules and regulations. \n",
      "Additional information about student life organizations, social and personal sup\n"
     ]
    }
   ],
   "source": [
    "print(page.page_content[0:500])"
   ]
  },
  {
   "cell_type": "code",
   "execution_count": 9,
   "id": "cff3b4e7-298e-419a-8d50-df9cfadc5158",
   "metadata": {},
   "outputs": [
    {
     "data": {
      "text/plain": [
       "{'source': 'docs/sfbu-2024-2025-university-catalog-8-20-2024.pdf', 'page': 1}"
      ]
     },
     "execution_count": 9,
     "metadata": {},
     "output_type": "execute_result"
    }
   ],
   "source": [
    "page.metadata"
   ]
  },
  {
   "cell_type": "code",
   "execution_count": 10,
   "id": "d12e777c-6b45-419d-9082-da78b7d55232",
   "metadata": {},
   "outputs": [],
   "source": [
    "# Load Youtube videos"
   ]
  },
  {
   "cell_type": "code",
   "execution_count": null,
   "id": "d652158c-d436-430b-97f0-5e7d361907c6",
   "metadata": {},
   "outputs": [],
   "source": [
    "# !pip install yt_dlp pydub"
   ]
  },
  {
   "cell_type": "code",
   "execution_count": 11,
   "id": "47aad80a-4d37-4e84-865b-b471790f38b6",
   "metadata": {},
   "outputs": [],
   "source": [
    "from langchain_community.document_loaders.blob_loaders.youtube_audio import YoutubeAudioLoader\n",
    "from langchain_community.document_loaders.generic import GenericLoader\n",
    "from langchain_community.document_loaders.parsers.audio import OpenAIWhisperParser"
   ]
  },
  {
   "cell_type": "code",
   "execution_count": 12,
   "id": "0701a57f-cdc5-4a00-a6d5-9f30f96ca6b2",
   "metadata": {},
   "outputs": [
    {
     "name": "stdout",
     "output_type": "stream",
     "text": [
      "[youtube] Extracting URL: https://www.youtube.com/watch?v=kuZNIvdwnMc\n",
      "[youtube] kuZNIvdwnMc: Downloading webpage\n",
      "[youtube] kuZNIvdwnMc: Downloading ios player API JSON\n",
      "[youtube] kuZNIvdwnMc: Downloading mweb player API JSON\n",
      "[youtube] kuZNIvdwnMc: Downloading m3u8 information\n",
      "[info] kuZNIvdwnMc: Downloading 1 format(s): 140\n",
      "[download] docs/youtube//San Francisco Bay University MBA Student Spotlight： John Odebode.m4a has already been downloaded\n",
      "[download] 100% of   10.20MiB\n",
      "[ExtractAudio] Not converting audio docs/youtube//San Francisco Bay University MBA Student Spotlight： John Odebode.m4a; file is already in target format m4a\n",
      "Transcribing part 1!\n"
     ]
    }
   ],
   "source": [
    "urls=[\"https://www.youtube.com/watch?v=kuZNIvdwnMc\"]\n",
    "\n",
    "save_dir=\"docs/youtube/\"\n",
    "\n",
    "loader = GenericLoader(\n",
    "    YoutubeAudioLoader(urls, save_dir), OpenAIWhisperParser())\n",
    "\n",
    "docs = loader.load()"
   ]
  },
  {
   "cell_type": "code",
   "execution_count": 13,
   "id": "97dd5ac6-b0fe-4f9f-a82c-708817c4bc31",
   "metadata": {},
   "outputs": [
    {
     "data": {
      "text/plain": [
       "\"My name is John, John Odebode. I am studying for an MBA program here at SFBU. It's my final trimester at SFBU and I will be graduating in two weeks. I am from Nigeria. I studied at the University of Lagos for my first degree in philosophy. I also studied for my first master's degree in philosophy as well at the same university. I have been practicing within the supply chain industry for the past six years. I have spent the most part of my career at ExxonMobil and I recently completed a six-month\""
      ]
     },
     "execution_count": 13,
     "metadata": {},
     "output_type": "execute_result"
    }
   ],
   "source": [
    "docs[0].page_content[0:500]"
   ]
  },
  {
   "cell_type": "code",
   "execution_count": 62,
   "id": "ff60054a-5f8a-4ac0-bc14-78f43a817915",
   "metadata": {},
   "outputs": [],
   "source": [
    "# Load URLs"
   ]
  },
  {
   "cell_type": "code",
   "execution_count": 64,
   "id": "45bf465b-36ee-4932-a345-2cef2855d88b",
   "metadata": {},
   "outputs": [],
   "source": [
    "from langchain_community.document_loaders import WebBaseLoader\n",
    "import re\n",
    "\n",
    "urls = [\"https://www.sfbu.edu/student-health-insurance\",\n",
    "    \"https://www.sfbu.edu/why-we-are-here\",\n",
    "    \"https://www.sfbu.edu/admissions\",\n",
    "    \"https://www.sfbu.edu/learning-teaching\",\n",
    "    \"https://www.sfbu.edu/student-life-support\",\n",
    "    \"https://www.sfbu.edu/contact-us\"]\n",
    "\n",
    "for url in urls:\n",
    "    loader = WebBaseLoader(url)\n",
    "    docs = loader.load()\n",
    "    raw_content = docs[0].page_content\n",
    "    cleaned_content = re.sub(r'\\n\\s*\\n', '\\n', raw_content).strip()"
   ]
  },
  {
   "cell_type": "code",
   "execution_count": 66,
   "id": "304b78aa-e3b9-4635-bef0-054192e5b46c",
   "metadata": {},
   "outputs": [
    {
     "name": "stdout",
     "output_type": "stream",
     "text": [
      "{'source': 'https://www.sfbu.edu/contact-us', 'title': 'Contact Us | San Francisco Bay University', 'description': 'Have questions and need to connect with an SFBU team member? Call, email, or fill out a form. We are here to help you!', 'language': 'en'}\n"
     ]
    }
   ],
   "source": [
    "print(docs[0].metadata)"
   ]
  },
  {
   "cell_type": "code",
   "execution_count": 68,
   "id": "7320d1ea-1ba9-423c-9dfc-23234397f583",
   "metadata": {},
   "outputs": [
    {
     "name": "stdout",
     "output_type": "stream",
     "text": [
      "Contact Us | San Francisco Bay University\n",
      "        Skip to main content\n",
      "          San Francisco Bay University\n",
      "Header Action Navigation\n",
      "Visit\n",
      "Apply \n",
      "Online store\n",
      "Search\n",
      "Header Action Navigation\n",
      "Visit\n",
      "Apply \n",
      "Online store\n",
      "Mega Menu\n",
      "Why We're Here\n",
      "Our CampusStrategic Plan\n",
      "Our Leadership\n",
      "Our Glossary of Terms\n",
      "Learning & Teaching\n",
      "Undergraduate ProgramsGraduate ProgramsFaculty\n",
      "Academic CalendarThe Center for Empowerment and Pedagogical Innovation\n",
      "Gaining Financial and Life Literacy at SFBULibrary\n",
      "Culti\n"
     ]
    }
   ],
   "source": [
    "print(cleaned_content[:500])"
   ]
  },
  {
   "cell_type": "code",
   "execution_count": 54,
   "id": "244f8683-baa1-4a27-b19d-1dfcf5030c0d",
   "metadata": {},
   "outputs": [],
   "source": [
    "# Load Notion Database"
   ]
  },
  {
   "cell_type": "code",
   "execution_count": 56,
   "id": "4b718a62-0a5b-4f03-a84f-0cc7dadacc48",
   "metadata": {},
   "outputs": [],
   "source": [
    "from langchain_community.document_loaders import NotionDirectoryLoader\n",
    "\n",
    "loader = NotionDirectoryLoader(\"Notion_DB\")\n",
    "docs = loader.load()"
   ]
  },
  {
   "cell_type": "code",
   "execution_count": 58,
   "id": "c082a0ba-d9ff-44a5-89d1-b43722fb04ec",
   "metadata": {},
   "outputs": [
    {
     "name": "stdout",
     "output_type": "stream",
     "text": [
      "# Blendle's Employee Handbook\n",
      "\n",
      "This is a living document with everything we've learned working with people while running a startup. And, of course, we continue to learn. Therefore it's a document that will continue to change. \n",
      "\n",
      "**Everything related to working at Blendle and the people of Blendle, made public.**\n",
      "\n",
      "These are the lessons from three years of working with the people of Blendle. It contains everything from [how our leaders lead](https://www.notion.so/ecfb7e647136468a9a0a32f1771a8f52?pv\n"
     ]
    }
   ],
   "source": [
    "print(docs[0].page_content[0:500])"
   ]
  },
  {
   "cell_type": "code",
   "execution_count": 60,
   "id": "ff324277-ece9-451b-86bb-c28707344f2a",
   "metadata": {
    "scrolled": true
   },
   "outputs": [
    {
     "data": {
      "text/plain": [
       "{'source': \"Notion_DB/Blendle's Employee Handbook 13082cad8cd680a4af71e02dfcdcfde2.md\"}"
      ]
     },
     "execution_count": 60,
     "metadata": {},
     "output_type": "execute_result"
    }
   ],
   "source": [
    "docs[0].metadata"
   ]
  },
  {
   "cell_type": "code",
   "execution_count": null,
   "id": "e16f3746-9911-4fa3-8ff9-de8cb89d5d17",
   "metadata": {},
   "outputs": [],
   "source": []
  }
 ],
 "metadata": {
  "kernelspec": {
   "display_name": "Python 3 (ipykernel)",
   "language": "python",
   "name": "python3"
  },
  "language_info": {
   "codemirror_mode": {
    "name": "ipython",
    "version": 3
   },
   "file_extension": ".py",
   "mimetype": "text/x-python",
   "name": "python",
   "nbconvert_exporter": "python",
   "pygments_lexer": "ipython3",
   "version": "3.11.5"
  }
 },
 "nbformat": 4,
 "nbformat_minor": 5
}
