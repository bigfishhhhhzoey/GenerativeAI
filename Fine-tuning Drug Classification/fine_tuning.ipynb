{
 "cells": [
  {
   "cell_type": "code",
   "execution_count": null,
   "id": "656d0c73-b4bb-4eb7-af39-1b3bcca35eed",
   "metadata": {},
   "outputs": [],
   "source": [
    "# Use Pandas to transform the data into the desired format.\n",
    "import pandas as pd\n",
    "import json\n",
    "from sklearn.model_selection import train_test_split\n",
    "\n",
    "n=2000\n",
    "\n",
    "# Load data from the Excel file\n",
    "df = pd.read_excel('Medicine_description.xlsx', sheet_name='Sheet1', header=0, nrows=n)\n",
    "\n",
    "# Get unique values in the 'Reason' column and assign numerical indices\n",
    "reasons = df[\"Reason\"].unique()\n",
    "reasons_dict = {reason: i for i, reason in enumerate(reasons)}\n",
    "\n",
    "# Add the formatted content to the 'Drug_Name' column\n",
    "df[\"Drug_Name\"] = \"Drug: \" + df[\"Drug_Name\"] + \"\\n\" + \"Malady:\"\n",
    "\n",
    "# Replace 'Reason' with the mapped numerical value (classification target)\n",
    "df[\"Reason\"] = df[\"Reason\"].apply(lambda x: \"\" + str(reasons_dict[x]))\n",
    "\n",
    "# Drop the 'Description' column\n",
    "df.drop([\"Description\"], axis=1, inplace=True)\n",
    "\n",
    "# Split the data into training and validation datasets (80% train, 20% validate)\n",
    "train_df, val_df = train_test_split(df, test_size=0.2, random_state=42)\n",
    "\n",
    "# Function to convert a DataFrame into JSONL format\n",
    "def convert_to_jsonl(df, output_file):\n",
    "    output = []\n",
    "    system_message = {\"role\": \"system\", \"content\": \"You are a drug classification assistant.\"}\n",
    "    \n",
    "    for _, row in df.iterrows():\n",
    "        user_message = {\"role\": \"user\", \"content\": row[\"Drug_Name\"]}\n",
    "        assistant_message = {\"role\": \"assistant\", \"content\": row[\"Reason\"]}\n",
    "        output.append({\"messages\": [system_message, user_message, assistant_message]})\n",
    "    \n",
    "    with open(output_file, \"w\") as f:\n",
    "        for entry in output:\n",
    "            f.write(json.dumps(entry) + \"\\n\")\n",
    "\n",
    "# Convert training and validation DataFrames to JSONL files\n",
    "convert_to_jsonl(train_df, \"train_data.jsonl\")\n",
    "convert_to_jsonl(val_df, \"val_data.jsonl\")"
   ]
  },
  {
   "cell_type": "code",
   "execution_count": null,
   "id": "14d21f88-7cc7-47c0-9772-187d8e741225",
   "metadata": {},
   "outputs": [],
   "source": [
    "import os\n",
    "import json\n",
    "from dotenv import load_dotenv\n",
    "from openai import OpenAI\n",
    "\n",
    "load_dotenv()\n",
    "client = OpenAI(api_key=os.getenv(\"OPENAI_API_KEY\"))"
   ]
  },
  {
   "cell_type": "code",
   "execution_count": null,
   "id": "c7fcff6a-f479-4388-8e19-40152152299c",
   "metadata": {},
   "outputs": [],
   "source": [
    "# Upload the training and validation files\n",
    "train_data = client.files.create(\n",
    "  file=open(\"train_data.jsonl\", \"rb\"),\n",
    "  purpose=\"fine-tune\")\n",
    "\n",
    "val_data = client.files.create(\n",
    "  file=open(\"val_data.jsonl\", \"rb\"),\n",
    "  purpose=\"fine-tune\")"
   ]
  },
  {
   "cell_type": "code",
   "execution_count": null,
   "id": "b87e5962-f9a6-4df0-b441-8a68a6924daf",
   "metadata": {},
   "outputs": [],
   "source": [
    "# Create a fine-tuned model\n",
    "fine_tune_job = client.fine_tuning.jobs.create(\n",
    "  training_file=train_data.id,\n",
    "  model=\"gpt-4o-mini-2024-07-18\",\n",
    "  validation_file=val_data.id,\n",
    "  suffix=\"drug-classifier\"\n",
    ")"
   ]
  },
  {
   "cell_type": "code",
   "execution_count": null,
   "id": "0980e142-a3da-4660-ab43-312520a002ba",
   "metadata": {},
   "outputs": [],
   "source": [
    "# Print the fine-tuning job details\n",
    "print(f\"Fine-tuning job created with ID: {fine_tune_job.id}\")\n",
    "updated_job = client.fine_tuning.jobs.retrieve(fine_tune_job.id)\n",
    "print(f\"Fine-tuned Model ID: {updated_job.fine_tuned_model}\")"
   ]
  },
  {
   "cell_type": "code",
   "execution_count": null,
   "id": "a0466e8f-67cc-4956-b02d-81e1a989ed9d",
   "metadata": {},
   "outputs": [],
   "source": [
    "# Retrieve the state of a fine-tune\n",
    "updated_job"
   ]
  },
  {
   "cell_type": "code",
   "execution_count": null,
   "id": "ac733e95-0b36-4418-bcbb-598fed72bd73",
   "metadata": {},
   "outputs": [],
   "source": [
    "# Use the fine-tuned model\n",
    "drugs = [\n",
    "    \"A CN Gel(Topical) 20gmA CN Soap 75gm\",  # Class 0\n",
    "    \"Addnok Tablet 20'S\",                    # Class 1\n",
    "    \"ABICET M Tablet 10's\",                  # Class 2\n",
    "]\n",
    "\n",
    "for drug_name in drugs:\n",
    "    prompt = \"Drug: {}\\nMalady:\".format(drug_name)\n",
    "    completion = client.chat.completions.create(\n",
    "      model=updated_job.fine_tuned_model,\n",
    "      messages=[\n",
    "        {\"role\": \"user\", \"content\": prompt}\n",
    "      ])\n",
    "    print(completion.choices[0].message.content)"
   ]
  },
  {
   "cell_type": "code",
   "execution_count": null,
   "id": "73c0d0d1-d377-4b00-8017-9a33998fb37a",
   "metadata": {},
   "outputs": [],
   "source": [
    "# Let's use a drug from each class\n",
    "drugs = [\n",
    "    \"What is 'A CN Gel(Topical) 20gmA CN Soap 75gm' used for?\",  # Class 0\n",
    "    \"What is 'Addnok Tablet 20'S' used for?\",  # Class 1\n",
    "    \"What is 'ABICET M Tablet 10's' used for?\",  # Class 2\n",
    "]\n",
    "\n",
    "class_map = {\n",
    "    0: \"Acne\",\n",
    "    1: \"Adhd\",\n",
    "    2: \"Allergies\",\n",
    "}\n",
    "\n",
    "# Returns a drug class for each drug\n",
    "for drug in drugs:\n",
    "    drug_name = drug.split(\"'\")[1] \n",
    "    prompt = \"Drug: {}\\nMalady:\".format(drug)\n",
    "    completion = client.chat.completions.create(\n",
    "      model=updated_job.fine_tuned_model,\n",
    "      messages=[\n",
    "        {\"role\": \"user\", \"content\": prompt}\n",
    "      ])\n",
    "    response = completion.choices[0].message.content\n",
    "    \n",
    "    try:\n",
    "        print(drug_name + \" is used for \" + class_map[int(response)] + \".\")\n",
    "    except:\n",
    "        print(\"I don't know what \" + drug_name + \" is used for.\")\n",
    "    print()"
   ]
  },
  {
   "cell_type": "code",
   "execution_count": null,
   "id": "e7d86e5a-18d6-476c-af05-ccb085106f47",
   "metadata": {},
   "outputs": [],
   "source": []
  }
 ],
 "metadata": {
  "kernelspec": {
   "display_name": "Python 3 (ipykernel)",
   "language": "python",
   "name": "python3"
  },
  "language_info": {
   "codemirror_mode": {
    "name": "ipython",
    "version": 3
   },
   "file_extension": ".py",
   "mimetype": "text/x-python",
   "name": "python",
   "nbconvert_exporter": "python",
   "pygments_lexer": "ipython3",
   "version": "3.11.5"
  }
 },
 "nbformat": 4,
 "nbformat_minor": 5
}
