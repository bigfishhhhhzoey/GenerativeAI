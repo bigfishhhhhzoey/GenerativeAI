{
 "cells": [
  {
   "cell_type": "code",
   "execution_count": 1,
   "id": "f4984a25-bee8-493e-a6db-975e2da4a5d7",
   "metadata": {},
   "outputs": [
    {
     "name": "stderr",
     "output_type": "stream",
     "text": [
      "USER_AGENT environment variable not set, consider setting it to identify your requests.\n"
     ]
    }
   ],
   "source": [
    "import os\n",
    "import re\n",
    "import openai\n",
    "from langchain_community.document_loaders import PyPDFLoader, WebBaseLoader\n",
    "from langchain_community.document_loaders.blob_loaders.youtube_audio import YoutubeAudioLoader\n",
    "from langchain_community.document_loaders.generic import GenericLoader\n",
    "from langchain_community.document_loaders.parsers.audio import OpenAIWhisperParser\n",
    "from langchain_text_splitters.character import RecursiveCharacterTextSplitter\n",
    "from langchain_openai import OpenAIEmbeddings\n",
    "from langchain_chroma import Chroma\n",
    "from langchain_core.documents import Document\n",
    "\n",
    "from dotenv import load_dotenv, find_dotenv\n",
    "_ = load_dotenv(find_dotenv()) # read local .env file\n",
    "\n",
    "openai.api_key  = os.environ['OPENAI_API_KEY']"
   ]
  },
  {
   "cell_type": "code",
   "execution_count": 2,
   "id": "91669fb4-dbc4-4ac8-a8e6-4c3ce384b1f9",
   "metadata": {},
   "outputs": [],
   "source": [
    "embedding = OpenAIEmbeddings()\n",
    "persist_directory = 'docs/chroma/'"
   ]
  },
  {
   "cell_type": "code",
   "execution_count": 3,
   "id": "ac1de3c7-13b4-410b-b864-6461146871fe",
   "metadata": {},
   "outputs": [],
   "source": [
    "all_documents = []"
   ]
  },
  {
   "cell_type": "code",
   "execution_count": 4,
   "id": "319f8d24-4c39-44e3-9202-6f1845f9cf47",
   "metadata": {},
   "outputs": [],
   "source": [
    "# Load PDF\n",
    "pdf_loader = PyPDFLoader(\"docs/sfbu-2024-2025-university-catalog-8-20-2024.pdf\")\n",
    "pdf_pages = pdf_loader.load_and_split()\n",
    "all_documents.extend([Document(page_content=page.page_content, metadata=page.metadata) for page in pdf_pages])"
   ]
  },
  {
   "cell_type": "code",
   "execution_count": 5,
   "id": "a8ea6c86-f9c1-46b4-9896-258337ba66ae",
   "metadata": {},
   "outputs": [
    {
     "name": "stdout",
     "output_type": "stream",
     "text": [
      "[youtube] Extracting URL: https://www.youtube.com/watch?v=kuZNIvdwnMc\n",
      "[youtube] kuZNIvdwnMc: Downloading webpage\n",
      "[youtube] kuZNIvdwnMc: Downloading ios player API JSON\n",
      "[youtube] kuZNIvdwnMc: Downloading mweb player API JSON\n",
      "[youtube] kuZNIvdwnMc: Downloading m3u8 information\n",
      "[info] kuZNIvdwnMc: Downloading 1 format(s): 140\n",
      "[download] docs/youtube//San Francisco Bay University MBA Student Spotlight： John Odebode.m4a has already been downloaded\n",
      "[download] 100% of   10.20MiB\n",
      "[ExtractAudio] Not converting audio docs/youtube//San Francisco Bay University MBA Student Spotlight： John Odebode.m4a; file is already in target format m4a\n",
      "Transcribing part 1!\n"
     ]
    }
   ],
   "source": [
    "# Load YouTube audio\n",
    "urls = [\"https://www.youtube.com/watch?v=kuZNIvdwnMc\"]\n",
    "save_dir = \"docs/youtube/\"\n",
    "youtube_loader = GenericLoader(YoutubeAudioLoader(urls, save_dir), OpenAIWhisperParser())\n",
    "youtube_docs = youtube_loader.load()\n",
    "all_documents.extend([Document(page_content=doc.page_content, metadata=doc.metadata) for doc in youtube_docs])"
   ]
  },
  {
   "cell_type": "code",
   "execution_count": 6,
   "id": "238d9dfc-b87d-4b42-ac5e-10ebaaa0024f",
   "metadata": {},
   "outputs": [],
   "source": [
    "# Load and clean web pages\n",
    "web_urls = [\n",
    "    \"https://www.sfbu.edu/student-health-insurance\",\n",
    "    \"https://www.sfbu.edu/why-we-are-here\",\n",
    "    \"https://www.sfbu.edu/admissions\",\n",
    "    \"https://www.sfbu.edu/learning-teaching\",\n",
    "    \"https://www.sfbu.edu/student-life-support\",\n",
    "    \"https://www.sfbu.edu/contact-us\"\n",
    "]\n",
    "\n",
    "for url in web_urls:\n",
    "    web_loader = WebBaseLoader(url)\n",
    "    docs = web_loader.load()\n",
    "    raw_content = docs[0].page_content\n",
    "    cleaned_content = re.sub(r'\\n\\s*\\n', '\\n', raw_content).strip()\n",
    "    all_documents.append(Document(page_content=cleaned_content, metadata={\"source\": url}))"
   ]
  },
  {
   "cell_type": "code",
   "execution_count": 7,
   "id": "61fc0ac1-2db8-4a03-8f71-f26642694525",
   "metadata": {},
   "outputs": [],
   "source": [
    "# Split documents into chunks\n",
    "text_splitter = RecursiveCharacterTextSplitter(chunk_size=1500, chunk_overlap=150)\n",
    "splits = text_splitter.split_documents(all_documents)"
   ]
  },
  {
   "cell_type": "code",
   "execution_count": 8,
   "id": "8c0319c8-45fd-40e4-95ab-4da0164714cf",
   "metadata": {},
   "outputs": [
    {
     "name": "stdout",
     "output_type": "stream",
     "text": [
      "Vectorstore created with 678 documents.\n"
     ]
    }
   ],
   "source": [
    "# Embed and store documents in a vectorstore\n",
    "vectordb = Chroma.from_documents(documents=splits, embedding=embedding, persist_directory=persist_directory)\n",
    "print(f\"Vectorstore created with {vectordb._collection.count()} documents.\")"
   ]
  }
 ],
 "metadata": {
  "kernelspec": {
   "display_name": "Python 3 (ipykernel)",
   "language": "python",
   "name": "python3"
  },
  "language_info": {
   "codemirror_mode": {
    "name": "ipython",
    "version": 3
   },
   "file_extension": ".py",
   "mimetype": "text/x-python",
   "name": "python",
   "nbconvert_exporter": "python",
   "pygments_lexer": "ipython3",
   "version": "3.11.5"
  }
 },
 "nbformat": 4,
 "nbformat_minor": 5
}
