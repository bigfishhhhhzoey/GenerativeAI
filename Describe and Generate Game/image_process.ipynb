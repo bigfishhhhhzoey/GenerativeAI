{
 "cells": [
  {
   "cell_type": "code",
   "execution_count": 1,
   "id": "1dd16e66-4142-4d9d-81a6-cdcd3fe95d9f",
   "metadata": {},
   "outputs": [],
   "source": [
    "import os\n",
    "import io\n",
    "from IPython.display import Image, display, HTML\n",
    "from PIL import Image\n",
    "import base64\n",
    "from dotenv import load_dotenv, find_dotenv\n",
    "import requests, json"
   ]
  },
  {
   "cell_type": "code",
   "execution_count": 2,
   "id": "855e5223-892c-4f77-bf2a-f777855e0575",
   "metadata": {},
   "outputs": [],
   "source": [
    "# Read local .env file\n",
    "_ = load_dotenv(find_dotenv()) \n",
    "hf_api_key = os.environ['HF_API_KEY']"
   ]
  },
  {
   "cell_type": "code",
   "execution_count": 3,
   "id": "e0da5aac-6502-4452-b2c5-7b642f1c631d",
   "metadata": {
    "tags": []
   },
   "outputs": [],
   "source": [
    "def get_completion(inputs, parameters=None, ENDPOINT_URL=\"\"):\n",
    "    headers = {\n",
    "      \"Authorization\": f\"Bearer {hf_api_key}\",\n",
    "      \"Content-Type\": \"application/json\"\n",
    "    }   \n",
    "    data = { \"inputs\": inputs }\n",
    "    if parameters is not None:\n",
    "        data.update({\"parameters\": parameters})\n",
    "    response = requests.request(\"POST\",\n",
    "                                ENDPOINT_URL,\n",
    "                                headers=headers,\n",
    "                                data=json.dumps(data))\n",
    "    return json.loads(response.content.decode(\"utf-8\"))"
   ]
  },
  {
   "cell_type": "code",
   "execution_count": 4,
   "id": "23e885de-45c4-443b-9395-a829ba11c9ef",
   "metadata": {
    "tags": []
   },
   "outputs": [],
   "source": [
    "def get_completion(inputs, parameters=None, ENDPOINT_URL=\"\", response_type=\"json\"):\n",
    "    headers = {\n",
    "        \"Authorization\": f\"Bearer {hf_api_key}\",\n",
    "        \"Content-Type\": \"application/json\"\n",
    "    }\n",
    "    data = {\"inputs\": inputs}\n",
    "    if parameters is not None:\n",
    "        data.update({\"parameters\": parameters})\n",
    "\n",
    "    try:\n",
    "        response = requests.post(ENDPOINT_URL, headers=headers, data=json.dumps(data))\n",
    "        response.raise_for_status()  # Raise an error for bad responses\n",
    "\n",
    "        # Handle the response based on its type\n",
    "        if response_type == \"binary\":\n",
    "            return response.content  # Binary data, for image generation\n",
    "        else:\n",
    "            return json.loads(response.content.decode(\"utf-8\"))  # JSON response, for captioning\n",
    "\n",
    "    except requests.exceptions.RequestException as e:\n",
    "        print(f\"Request failed: {e}\")\n",
    "        return {\"error\": str(e)} if response_type == \"json\" else None"
   ]
  },
  {
   "cell_type": "code",
   "execution_count": 5,
   "id": "85bf36c3-9ee5-4417-a667-ebedc1a78b57",
   "metadata": {
    "tags": []
   },
   "outputs": [],
   "source": [
    "ITT_ENDPOINT = os.environ['HF_API_ITT_BASE']\n",
    "TTI_ENDPOINT = os.environ['HF_API_TTI_BASE']"
   ]
  },
  {
   "cell_type": "code",
   "execution_count": 6,
   "id": "c77651bb-5dfc-4220-b660-9edba505d819",
   "metadata": {},
   "outputs": [],
   "source": [
    "def image_to_base64_str(pil_image):\n",
    "    byte_arr = io.BytesIO()\n",
    "    pil_image.save(byte_arr, format='PNG')\n",
    "    byte_arr = byte_arr.getvalue()\n",
    "    return str(base64.b64encode(byte_arr).decode('utf-8'))\n",
    "\n",
    "def base64_to_pil(img_base64):\n",
    "    base64_decoded = base64.b64decode(img_base64)\n",
    "    byte_stream = io.BytesIO(base64_decoded)\n",
    "    pil_image = Image.open(byte_stream)\n",
    "    return pil_image\n",
    "\n",
    "def captioner(image):\n",
    "    base64_image = image_to_base64_str(image)\n",
    "    result = get_completion(base64_image, None, ITT_ENDPOINT, response_type=\"json\")\n",
    "    \n",
    "    if isinstance(result, dict) and \"error\" in result:\n",
    "        return f\"Error: {result['error']}\"\n",
    "    \n",
    "    return result[0]['generated_text']\n",
    "\n",
    "def generate(prompt):\n",
    "    output = get_completion(prompt, None, TTI_ENDPOINT, response_type=\"binary\")\n",
    "    \n",
    "    if output is None:\n",
    "        return \"Error: Unable to generate image.\"\n",
    "\n",
    "    try:\n",
    "        byte_stream = io.BytesIO(output)\n",
    "        result_image = Image.open(byte_stream)\n",
    "        return result_image\n",
    "    except Exception as e:\n",
    "        return f\"Error: {e}\""
   ]
  },
  {
   "cell_type": "code",
   "execution_count": 7,
   "id": "7fbd7039-a56e-450b-8ebf-3bed5e4b01b1",
   "metadata": {},
   "outputs": [
    {
     "name": "stdout",
     "output_type": "stream",
     "text": [
      "* Running on local URL:  http://127.0.0.1:7860\n",
      "\n",
      "To create a public link, set `share=True` in `launch()`.\n"
     ]
    },
    {
     "data": {
      "text/html": [
       "<div><iframe src=\"http://127.0.0.1:7860/\" width=\"100%\" height=\"500\" allow=\"autoplay; camera; microphone; clipboard-read; clipboard-write;\" frameborder=\"0\" allowfullscreen></iframe></div>"
      ],
      "text/plain": [
       "<IPython.core.display.HTML object>"
      ]
     },
     "metadata": {},
     "output_type": "display_data"
    },
    {
     "data": {
      "text/plain": []
     },
     "execution_count": 7,
     "metadata": {},
     "output_type": "execute_result"
    }
   ],
   "source": [
    "# Build your game with just captioning\n",
    "import gradio as gr \n",
    "\n",
    "with gr.Blocks() as demo:\n",
    "    gr.Markdown(\"# Describe-and-Generate Game\")\n",
    "    image_upload = gr.Image(label=\n",
    "            \"Your first image\",type=\"pil\")\n",
    "    btn_caption = gr.Button(\"Generate caption\")\n",
    "    caption = gr.Textbox(label=\"Generated caption\")\n",
    "    \n",
    "    btn_caption.click(fn=captioner, \n",
    "          inputs=[image_upload], outputs=[caption])\n",
    "\n",
    "gr.close_all()\n",
    "# demo.launch(share=True)\n",
    "demo.launch()"
   ]
  },
  {
   "cell_type": "code",
   "execution_count": 8,
   "id": "091b4453-38b4-4f71-8570-9d93476ee53e",
   "metadata": {},
   "outputs": [
    {
     "name": "stdout",
     "output_type": "stream",
     "text": [
      "* Running on local URL:  http://127.0.0.1:7861\n",
      "\n",
      "To create a public link, set `share=True` in `launch()`.\n"
     ]
    },
    {
     "data": {
      "text/html": [
       "<div><iframe src=\"http://127.0.0.1:7861/\" width=\"100%\" height=\"500\" allow=\"autoplay; camera; microphone; clipboard-read; clipboard-write;\" frameborder=\"0\" allowfullscreen></iframe></div>"
      ],
      "text/plain": [
       "<IPython.core.display.HTML object>"
      ]
     },
     "metadata": {},
     "output_type": "display_data"
    },
    {
     "data": {
      "text/plain": []
     },
     "execution_count": 8,
     "metadata": {},
     "output_type": "execute_result"
    }
   ],
   "source": [
    "# Add generation\n",
    "with gr.Blocks() as demo:\n",
    "    gr.Markdown(\"# Describe-and-Generate Game\")\n",
    "    image_upload = gr.Image(label=\n",
    "          \"Your first image\",type=\"pil\")\n",
    "    btn_caption = gr.Button(\"Generate caption\")\n",
    "    caption = gr.Textbox(label=\"Generated caption\")\n",
    "    btn_image = gr.Button(\"Generate image\")\n",
    "    image_output = gr.Image(label=\"Generated Image\")\n",
    "    btn_caption.click(fn=captioner, \n",
    "          inputs=[image_upload], outputs=[caption])\n",
    "    btn_image.click(fn=generate, \n",
    "          inputs=[caption], outputs=[image_output])\n",
    "\n",
    "gr.close_all()\n",
    "# demo.launch(share=True)\n",
    "demo.launch()"
   ]
  },
  {
   "cell_type": "code",
   "execution_count": 9,
   "id": "fd521387-c1a7-4e83-a397-728414e16406",
   "metadata": {},
   "outputs": [],
   "source": [
    "# Add audio output\n",
    "from gtts import gTTS\n",
    "\n",
    "# Function to convert text to speech\n",
    "def text_to_speech(text):\n",
    "    tts = gTTS(text)\n",
    "    tts.save(\"caption_audio.mp3\")\n",
    "    return \"caption_audio.mp3\""
   ]
  },
  {
   "cell_type": "code",
   "execution_count": 24,
   "id": "cd0f11ad-7f7a-476b-abff-c9c6794f2955",
   "metadata": {},
   "outputs": [
    {
     "name": "stdout",
     "output_type": "stream",
     "text": [
      "* Running on local URL:  http://127.0.0.1:7875\n",
      "\n",
      "To create a public link, set `share=True` in `launch()`.\n"
     ]
    },
    {
     "data": {
      "text/html": [
       "<div><iframe src=\"http://127.0.0.1:7875/\" width=\"100%\" height=\"500\" allow=\"autoplay; camera; microphone; clipboard-read; clipboard-write;\" frameborder=\"0\" allowfullscreen></iframe></div>"
      ],
      "text/plain": [
       "<IPython.core.display.HTML object>"
      ]
     },
     "metadata": {},
     "output_type": "display_data"
    },
    {
     "data": {
      "text/plain": []
     },
     "execution_count": 24,
     "metadata": {},
     "output_type": "execute_result"
    }
   ],
   "source": [
    "# Caption, audio and generation all at once\n",
    "def caption_and_generate(image):\n",
    "    caption = captioner(image)\n",
    "    audio_file = text_to_speech(caption)\n",
    "    image = generate(caption)\n",
    "    return [caption, audio_file, image]\n",
    "\n",
    "with gr.Blocks(css=\".caption-audio-row { height: 100px; }\") as demo:\n",
    "    gr.Markdown(\"# Describe-and-Generate Game 💡\")\n",
    "    \n",
    "    image_upload = gr.Image(label=\"Your first image\", type=\"pil\")\n",
    "    btn_all = gr.Button(\"Caption and generate\")\n",
    "\n",
    "    with gr.Row():\n",
    "        caption = gr.Textbox(label=\"Generated caption\", lines=2.22)\n",
    "        audio_output = gr.Audio(label=\"Caption Audio Output\")\n",
    "    \n",
    "    image_output = gr.Image(label=\"Generated Image\")\n",
    "\n",
    "    btn_all.click(fn=caption_and_generate, \n",
    "                  inputs=[image_upload], \n",
    "                  outputs=[caption, audio_output, image_output])\n",
    "\n",
    "\n",
    "gr.close_all()\n",
    "# demo.launch(share=True)\n",
    "demo.launch()"
   ]
  },
  {
   "cell_type": "code",
   "execution_count": 11,
   "id": "d9620c60-c2ac-4b75-9528-b6d1a9c0ec6b",
   "metadata": {
    "tags": []
   },
   "outputs": [],
   "source": [
    "gr.close_all()"
   ]
  }
 ],
 "metadata": {
  "kernelspec": {
   "display_name": "Python 3 (ipykernel)",
   "language": "python",
   "name": "python3"
  },
  "language_info": {
   "codemirror_mode": {
    "name": "ipython",
    "version": 3
   },
   "file_extension": ".py",
   "mimetype": "text/x-python",
   "name": "python",
   "nbconvert_exporter": "python",
   "pygments_lexer": "ipython3",
   "version": "3.11.5"
  }
 },
 "nbformat": 4,
 "nbformat_minor": 5
}
